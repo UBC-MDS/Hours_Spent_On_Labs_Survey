{
 "cells": [
  {
   "cell_type": "markdown",
   "metadata": {},
   "source": [
    "# Title\n",
    "\n",
    "Our study focuses on whether a Master of Data Science (MDS) student goes to office hours affect the average number of hours they spend working on labs per week. The population for this study would be all MDS cohorts. The reasons might affect whether people attend office hours and time they spend on their labs include:\n",
    "- Work style: one prefers to work in groups or alone. The work style might be a confounder as omeone working in groups may have enough support to complete labs without going to office hours, but at the same time, someone working in groups may spend more time discussing lab questions and thus spend more time on labs.\n",
    "- academic background: Science, Engineering, Math, Business, or Other. Since MDS courses are heavily statistics and computer science based, we suspect someone with a statistics or computer science background are less likely to go to office hours. Furthermore, someone with a statistics or computer science background are more likely to finish labs faster because they are more rehearsed in the topics covered by the MDS curriculum.\n",
    "- years one have been out of school: 0-2, 3-5, 5+. The longer someone has been out-of-school, the more likely for them to not be used to school routines and thus, more likely to struggle academically. Therefore, the longer someone has been out-of-school, the more likely someone will go to office hours to ask for help. At the same time, this student may not go to office hours, but spend more time on labs just because they are struggling.\n",
    "- programming skills: rated from 1-5. The amount of time an MDS student spends on lab might not only be affected by their understanding of the concepts but also by their ability to translate their understanding into code. A student with strong programming skills might be efficient at the latter and spend less time on labs. At the same time this student might be less likely to need any help with coding, hence less likely to go to office hours.\n",
    "- statistical skills: rated from 1-5. A student with strong statistical knowledge might understand concepts of certain MDS courses more quickly and spend less time on labs. At the same time, this student may require less help with concepts, hence less likely to go to office hours.\n",
    "- . A student who decides to solve optional questions probably understands the material well, and thus, is less likely to go to office hours. On the other hand, compared to a person who only do mandatory questions, this student might spend more time working on labs.\n",
    "\n",
    "## Method\n",
    "\n",
    "We created a survey with questions using the above confounders and sent the survey to MDS students. Our sample data for this study would be the 56 responses we received, which we consider a good representation of the population. After creating EDA and observe the charts, we would eliminate the unrelated confounders, i.e. confounders those do not have an obvious impact on the relationship between time we spend on the lab and office hours attended. For the remaining confounders, we would build models.\n",
    "\n",
    "## EDA and Observation\n",
    "- list all EDA\n",
    "- eliminate some and keep the rest, explain why\n",
    "\n",
    "## Statistical Analysis and Results\n",
    "- do stat analysis on the remaining confounders, then for each one, explain if it is a legit confounder\n",
    "- reach to the final model with only the legit confounders.\n",
    "\n",
    "## Discussion\n",
    "- we thoroughly considered the possible confounders; gather data on the confounders with creating proper questions and grouped answers; study on the confounders(perform EDA and stat analysis) to make sure its legit\n",
    "- sample size being small, we do not have enough data points to support a solid conclusion on the relationship between the confounding variables and \n",
    "- increase the size of sample data, by gathering data from other MDS cohorts instead of our cohorts only.\n",
    "\n"
   ]
  },
  {
   "cell_type": "code",
   "execution_count": null,
   "metadata": {},
   "outputs": [],
   "source": []
  }
 ],
 "metadata": {
  "kernelspec": {
   "display_name": "R",
   "language": "R",
   "name": "ir"
  },
  "language_info": {
   "codemirror_mode": "r",
   "file_extension": ".r",
   "mimetype": "text/x-r-source",
   "name": "R",
   "pygments_lexer": "r",
   "version": "3.5.1"
  }
 },
 "nbformat": 4,
 "nbformat_minor": 2
}
